{
  "nbformat": 4,
  "nbformat_minor": 0,
  "metadata": {
    "colab": {
      "name": "corretor.ipynb",
      "provenance": [],
      "include_colab_link": true
    },
    "kernelspec": {
      "name": "python3",
      "display_name": "Python 3"
    },
    "language_info": {
      "name": "python"
    }
  },
  "cells": [
    {
      "cell_type": "markdown",
      "metadata": {
        "id": "view-in-github",
        "colab_type": "text"
      },
      "source": [
        "<a href=\"https://colab.research.google.com/github/GaybsGimenez/corretor.alura/blob/main/corretor.ipynb\" target=\"_parent\"><img src=\"https://colab.research.google.com/assets/colab-badge.svg\" alt=\"Open In Colab\"/></a>"
      ]
    },
    {
      "cell_type": "code",
      "metadata": {
        "colab": {
          "base_uri": "https://localhost:8080/"
        },
        "id": "ecgH-wDxzO3S",
        "outputId": "dea1bfe7-5ae6-40ee-9a2e-c337ed48f014"
      },
      "source": [
        "with open(\"artigos.txt\", \"r\") as f:\n",
        "    artigos = f.read()\n",
        "\n",
        "print(artigos [:500])"
      ],
      "execution_count": 140,
      "outputs": [
        {
          "output_type": "stream",
          "text": [
            "\n",
            "\n",
            "\n",
            "imagem \n",
            "\n",
            "Temos a seguinte classe que representa um usuário no nosso sistema:\n",
            "\n",
            "java\n",
            "\n",
            "Para salvar um novo usuário, várias validações são feitas, como por exemplo: Ver se o nome só contém letras, [**o CPF só números**] e ver se o usuário possui no mínimo 18 anos. Veja o método que faz essa validação:\n",
            "\n",
            "java \n",
            "\n",
            "Suponha agora que eu tenha outra classe, a classe `Produto`, que contém um atributo nome e eu quero fazer a mesma validação que fiz para o nome do usuário: Ver se só contém letras. E aí? Vou\n"
          ],
          "name": "stdout"
        }
      ]
    },
    {
      "cell_type": "code",
      "metadata": {
        "colab": {
          "base_uri": "https://localhost:8080/"
        },
        "id": "WQ8GxnwL1rRS",
        "outputId": "f1d5d9f0-f45d-4f3c-b3f4-cd731dd8dc93"
      },
      "source": [
        "len(artigos)"
      ],
      "execution_count": 141,
      "outputs": [
        {
          "output_type": "execute_result",
          "data": {
            "text/plain": [
              "2605046"
            ]
          },
          "metadata": {
            "tags": []
          },
          "execution_count": 141
        }
      ]
    },
    {
      "cell_type": "code",
      "metadata": {
        "id": "nTvia01y2BLI",
        "colab": {
          "base_uri": "https://localhost:8080/"
        },
        "outputId": "d07f0ceb-67da-4e7e-a44a-b099ef628b79"
      },
      "source": [
        "len(\"olá\")"
      ],
      "execution_count": 142,
      "outputs": [
        {
          "output_type": "execute_result",
          "data": {
            "text/plain": [
              "3"
            ]
          },
          "metadata": {
            "tags": []
          },
          "execution_count": 142
        }
      ]
    },
    {
      "cell_type": "code",
      "metadata": {
        "id": "Uy7umikm2c4a",
        "colab": {
          "base_uri": "https://localhost:8080/"
        },
        "outputId": "cd59d80b-f582-4660-9dc6-f72e59cbc0a4"
      },
      "source": [
        "texto_exemplo = \"olá, tudo bem?\"\n",
        "tokens = texto_exemplo.split()\n",
        "print(len(tokens))"
      ],
      "execution_count": 143,
      "outputs": [
        {
          "output_type": "stream",
          "text": [
            "3\n"
          ],
          "name": "stdout"
        }
      ]
    },
    {
      "cell_type": "code",
      "metadata": {
        "id": "pJLU_F2o3KM-",
        "colab": {
          "base_uri": "https://localhost:8080/"
        },
        "outputId": "8c399e63-757b-4426-db51-4cbe2ceffef7"
      },
      "source": [
        "print(tokens)"
      ],
      "execution_count": 144,
      "outputs": [
        {
          "output_type": "stream",
          "text": [
            "['olá,', 'tudo', 'bem?']\n"
          ],
          "name": "stdout"
        }
      ]
    },
    {
      "cell_type": "code",
      "metadata": {
        "id": "T0uQE-9g4Q7J",
        "colab": {
          "base_uri": "https://localhost:8080/"
        },
        "outputId": "4cd15827-b4af-4a99-c477-168667e0c6e0"
      },
      "source": [
        "import nltk\n",
        "nltk.download ('punkt')"
      ],
      "execution_count": 145,
      "outputs": [
        {
          "output_type": "stream",
          "text": [
            "[nltk_data] Downloading package punkt to /root/nltk_data...\n",
            "[nltk_data]   Package punkt is already up-to-date!\n"
          ],
          "name": "stdout"
        },
        {
          "output_type": "execute_result",
          "data": {
            "text/plain": [
              "True"
            ]
          },
          "metadata": {
            "tags": []
          },
          "execution_count": 145
        }
      ]
    },
    {
      "cell_type": "code",
      "metadata": {
        "id": "4wLlQCit49DN",
        "colab": {
          "base_uri": "https://localhost:8080/"
        },
        "outputId": "1ced9eac-cd82-4528-d477-c905e0533adc"
      },
      "source": [
        "palavras_separadas = nltk.tokenize.word_tokenize(texto_exemplo)\n",
        "print(palavras_separadas)"
      ],
      "execution_count": 146,
      "outputs": [
        {
          "output_type": "stream",
          "text": [
            "['olá', ',', 'tudo', 'bem', '?']\n"
          ],
          "name": "stdout"
        }
      ]
    },
    {
      "cell_type": "code",
      "metadata": {
        "id": "oMzBmMAS7K6o",
        "colab": {
          "base_uri": "https://localhost:8080/"
        },
        "outputId": "3c2336f5-87e8-4109-c39a-8288d2999a76"
      },
      "source": [
        "len(palavras_separadas)"
      ],
      "execution_count": 147,
      "outputs": [
        {
          "output_type": "execute_result",
          "data": {
            "text/plain": [
              "5"
            ]
          },
          "metadata": {
            "tags": []
          },
          "execution_count": 147
        }
      ]
    },
    {
      "cell_type": "code",
      "metadata": {
        "id": "EXAmbAHl8Szr",
        "colab": {
          "base_uri": "https://localhost:8080/"
        },
        "outputId": "78a05ba7-c9e3-48c3-c5fb-5623f8752d3d"
      },
      "source": [
        "'./'.isalpha()"
      ],
      "execution_count": 148,
      "outputs": [
        {
          "output_type": "execute_result",
          "data": {
            "text/plain": [
              "False"
            ]
          },
          "metadata": {
            "tags": []
          },
          "execution_count": 148
        }
      ]
    },
    {
      "cell_type": "code",
      "metadata": {
        "id": "IYkTqvbI7Pe9",
        "colab": {
          "base_uri": "https://localhost:8080/"
        },
        "outputId": "6830374d-d7c2-41d4-ea41-659b28a578ce"
      },
      "source": [
        "def separa_palavras(lista_tokens): \n",
        "  lista_palavras = []\n",
        "  for token in lista_tokens:\n",
        "      if token.isalpha():\n",
        "          lista_palavras.append(token)\n",
        "  return lista_palavras\n",
        "\n",
        "separa_palavras(palavras_separadas)"
      ],
      "execution_count": 149,
      "outputs": [
        {
          "output_type": "execute_result",
          "data": {
            "text/plain": [
              "['olá', 'tudo', 'bem']"
            ]
          },
          "metadata": {
            "tags": []
          },
          "execution_count": 149
        }
      ]
    },
    {
      "cell_type": "code",
      "metadata": {
        "id": "qeknivtQ9YOS",
        "colab": {
          "base_uri": "https://localhost:8080/"
        },
        "outputId": "79bd31ae-09f9-41c8-cf30-86afb135e507"
      },
      "source": [
        "lista_tokens = nltk.tokenize.word_tokenize(artigos)\n",
        "lista_palavras = separa_palavras(lista_tokens)\n",
        "print(f\"o número de palavras é {len(lista_palavras)}\")"
      ],
      "execution_count": 150,
      "outputs": [
        {
          "output_type": "stream",
          "text": [
            "o número de palavras é 393914\n"
          ],
          "name": "stdout"
        }
      ]
    },
    {
      "cell_type": "code",
      "metadata": {
        "id": "nkBc_Wwj-WUU",
        "colab": {
          "base_uri": "https://localhost:8080/"
        },
        "outputId": "2f89efa4-fa73-4815-b6e4-6c69e7b1a4ff"
      },
      "source": [
        "print(lista_palavras[:5])"
      ],
      "execution_count": 151,
      "outputs": [
        {
          "output_type": "stream",
          "text": [
            "['imagem', 'Temos', 'a', 'seguinte', 'classe']\n"
          ],
          "name": "stdout"
        }
      ]
    },
    {
      "cell_type": "code",
      "metadata": {
        "id": "1Y7lcwHBFwnA",
        "colab": {
          "base_uri": "https://localhost:8080/"
        },
        "outputId": "6d4c6c79-3ce0-4384-caec-796e99316165"
      },
      "source": [
        "def normalizacao(lista_palavras):\n",
        "    lista_normalizada = []\n",
        "    for palavra in lista_palavras:\n",
        "        lista_normalizada.append(palavra.lower())\n",
        "    return lista_normalizada\n",
        "\n",
        "lista_normalizada = normalizacao(lista_palavras)\n",
        "print(lista_normalizada[:5])"
      ],
      "execution_count": 152,
      "outputs": [
        {
          "output_type": "stream",
          "text": [
            "['imagem', 'temos', 'a', 'seguinte', 'classe']\n"
          ],
          "name": "stdout"
        }
      ]
    },
    {
      "cell_type": "code",
      "metadata": {
        "id": "-Nw-rcphG1J-",
        "colab": {
          "base_uri": "https://localhost:8080/"
        },
        "outputId": "8ec2f0f2-aab7-4dc8-b0a3-41e7e0996d3d"
      },
      "source": [
        "len(set(lista_normalizada))"
      ],
      "execution_count": 153,
      "outputs": [
        {
          "output_type": "execute_result",
          "data": {
            "text/plain": [
              "17652"
            ]
          },
          "metadata": {
            "tags": []
          },
          "execution_count": 153
        }
      ]
    },
    {
      "cell_type": "code",
      "metadata": {
        "id": "t_pKuF484cD-",
        "colab": {
          "base_uri": "https://localhost:8080/"
        },
        "outputId": "dd8b62c1-36c4-4a97-8405-254d4d75ee29"
      },
      "source": [
        "lista = \"lgica\"\n",
        "(lista[:1],lista [1:])"
      ],
      "execution_count": 154,
      "outputs": [
        {
          "output_type": "execute_result",
          "data": {
            "text/plain": [
              "('l', 'gica')"
            ]
          },
          "metadata": {
            "tags": []
          },
          "execution_count": 154
        }
      ]
    },
    {
      "cell_type": "code",
      "metadata": {
        "id": "msyun24Z3nLC",
        "colab": {
          "base_uri": "https://localhost:8080/"
        },
        "outputId": "a16e1313-274a-4763-84ef-1484aa03a58a"
      },
      "source": [
        "palavra_exemplo = \"lgica\"\n",
        "def gerador_palavras(palavra):\n",
        "  fatias = []\n",
        "  for i in range(len(palavra)+1):\n",
        "      fatias.append((lista[:i],lista [i:]))\n",
        "  print(fatias)\n",
        "  #palavras_geradas = insere_letras(fatias)\n",
        "  #return palavras_geradas\n",
        "\n",
        "gerador_palavras(palavra_exemplo)"
      ],
      "execution_count": 155,
      "outputs": [
        {
          "output_type": "stream",
          "text": [
            "[('', 'lgica'), ('l', 'gica'), ('lg', 'ica'), ('lgi', 'ca'), ('lgic', 'a'), ('lgica', '')]\n"
          ],
          "name": "stdout"
        }
      ]
    },
    {
      "cell_type": "code",
      "metadata": {
        "id": "c-3e36an4I2y",
        "colab": {
          "base_uri": "https://localhost:8080/"
        },
        "outputId": "1384d1b3-deb4-40f4-ed1f-713bc5ded370"
      },
      "source": [
        "palavra_exemplo = \"lgica\"\n",
        "def insere_letras(fatias):\n",
        "    novas_palavras = []\n",
        "    letras = 'abcdefghijklmnopqrstuvwxyzàáâãèéêìíîòóôõùúûç'\n",
        "    for E, D in fatias:\n",
        "        for letra in letras:\n",
        "            novas_palavras.append(E + letra + D)\n",
        "    return novas_palavras\n",
        "\n",
        "\n",
        "def gerador_palavras(palavra):\n",
        "  fatias = []\n",
        "  for i in range(len(palavra)+1):\n",
        "      fatias.append((palavra[:i],palavra [i:]))\n",
        "  palavras_geradas = insere_letras(fatias)\n",
        "  return palavras_geradas\n",
        "                                \n",
        "\n",
        "palavras_geradas = gerador_palavras(palavra_exemplo)\n",
        "print(palavras_geradas)"
      ],
      "execution_count": 156,
      "outputs": [
        {
          "output_type": "stream",
          "text": [
            "['algica', 'blgica', 'clgica', 'dlgica', 'elgica', 'flgica', 'glgica', 'hlgica', 'ilgica', 'jlgica', 'klgica', 'llgica', 'mlgica', 'nlgica', 'olgica', 'plgica', 'qlgica', 'rlgica', 'slgica', 'tlgica', 'ulgica', 'vlgica', 'wlgica', 'xlgica', 'ylgica', 'zlgica', 'àlgica', 'álgica', 'âlgica', 'ãlgica', 'èlgica', 'élgica', 'êlgica', 'ìlgica', 'ílgica', 'îlgica', 'òlgica', 'ólgica', 'ôlgica', 'õlgica', 'ùlgica', 'úlgica', 'ûlgica', 'çlgica', 'lagica', 'lbgica', 'lcgica', 'ldgica', 'legica', 'lfgica', 'lggica', 'lhgica', 'ligica', 'ljgica', 'lkgica', 'llgica', 'lmgica', 'lngica', 'logica', 'lpgica', 'lqgica', 'lrgica', 'lsgica', 'ltgica', 'lugica', 'lvgica', 'lwgica', 'lxgica', 'lygica', 'lzgica', 'làgica', 'lágica', 'lâgica', 'lãgica', 'lègica', 'légica', 'lêgica', 'lìgica', 'lígica', 'lîgica', 'lògica', 'lógica', 'lôgica', 'lõgica', 'lùgica', 'lúgica', 'lûgica', 'lçgica', 'lgaica', 'lgbica', 'lgcica', 'lgdica', 'lgeica', 'lgfica', 'lggica', 'lghica', 'lgiica', 'lgjica', 'lgkica', 'lglica', 'lgmica', 'lgnica', 'lgoica', 'lgpica', 'lgqica', 'lgrica', 'lgsica', 'lgtica', 'lguica', 'lgvica', 'lgwica', 'lgxica', 'lgyica', 'lgzica', 'lgàica', 'lgáica', 'lgâica', 'lgãica', 'lgèica', 'lgéica', 'lgêica', 'lgìica', 'lgíica', 'lgîica', 'lgòica', 'lgóica', 'lgôica', 'lgõica', 'lgùica', 'lgúica', 'lgûica', 'lgçica', 'lgiaca', 'lgibca', 'lgicca', 'lgidca', 'lgieca', 'lgifca', 'lgigca', 'lgihca', 'lgiica', 'lgijca', 'lgikca', 'lgilca', 'lgimca', 'lginca', 'lgioca', 'lgipca', 'lgiqca', 'lgirca', 'lgisca', 'lgitca', 'lgiuca', 'lgivca', 'lgiwca', 'lgixca', 'lgiyca', 'lgizca', 'lgiàca', 'lgiáca', 'lgiâca', 'lgiãca', 'lgièca', 'lgiéca', 'lgiêca', 'lgiìca', 'lgiíca', 'lgiîca', 'lgiòca', 'lgióca', 'lgiôca', 'lgiõca', 'lgiùca', 'lgiúca', 'lgiûca', 'lgiçca', 'lgicaa', 'lgicba', 'lgicca', 'lgicda', 'lgicea', 'lgicfa', 'lgicga', 'lgicha', 'lgicia', 'lgicja', 'lgicka', 'lgicla', 'lgicma', 'lgicna', 'lgicoa', 'lgicpa', 'lgicqa', 'lgicra', 'lgicsa', 'lgicta', 'lgicua', 'lgicva', 'lgicwa', 'lgicxa', 'lgicya', 'lgicza', 'lgicàa', 'lgicáa', 'lgicâa', 'lgicãa', 'lgicèa', 'lgicéa', 'lgicêa', 'lgicìa', 'lgicía', 'lgicîa', 'lgicòa', 'lgicóa', 'lgicôa', 'lgicõa', 'lgicùa', 'lgicúa', 'lgicûa', 'lgicça', 'lgicaa', 'lgicab', 'lgicac', 'lgicad', 'lgicae', 'lgicaf', 'lgicag', 'lgicah', 'lgicai', 'lgicaj', 'lgicak', 'lgical', 'lgicam', 'lgican', 'lgicao', 'lgicap', 'lgicaq', 'lgicar', 'lgicas', 'lgicat', 'lgicau', 'lgicav', 'lgicaw', 'lgicax', 'lgicay', 'lgicaz', 'lgicaà', 'lgicaá', 'lgicaâ', 'lgicaã', 'lgicaè', 'lgicaé', 'lgicaê', 'lgicaì', 'lgicaí', 'lgicaî', 'lgicaò', 'lgicaó', 'lgicaô', 'lgicaõ', 'lgicaù', 'lgicaú', 'lgicaû', 'lgicaç']\n"
          ],
          "name": "stdout"
        }
      ]
    },
    {
      "cell_type": "code",
      "metadata": {
        "id": "RUkUrMZN7vDm"
      },
      "source": [
        "def corretor(palavra):\n",
        "    palavras_geradas = gerador_palavras(palavra)\n",
        "    palavra_correta = max(palavras_geradas, key=probabilidade)\n",
        "    return palavra_correta"
      ],
      "execution_count": 157,
      "outputs": []
    },
    {
      "cell_type": "code",
      "metadata": {
        "id": "61gmnbyUD_8Y",
        "colab": {
          "base_uri": "https://localhost:8080/"
        },
        "outputId": "e9b4b14f-6698-41ce-ccbe-1bc933469124"
      },
      "source": [
        "frequencia = nltk.FreqDist(lista_normalizada)\n",
        "total_palavras = len(lista_normalizada)\n",
        "frequencia.most_common(10)"
      ],
      "execution_count": 158,
      "outputs": [
        {
          "output_type": "execute_result",
          "data": {
            "text/plain": [
              "[('de', 15494),\n",
              " ('o', 13966),\n",
              " ('que', 12225),\n",
              " ('a', 11034),\n",
              " ('e', 10478),\n",
              " ('para', 7694),\n",
              " ('um', 6346),\n",
              " ('é', 5881),\n",
              " ('uma', 5202),\n",
              " ('do', 5116)]"
            ]
          },
          "metadata": {
            "tags": []
          },
          "execution_count": 158
        }
      ]
    },
    {
      "cell_type": "code",
      "metadata": {
        "colab": {
          "base_uri": "https://localhost:8080/"
        },
        "id": "7-qrmXY5TK5M",
        "outputId": "94633ac1-f2a1-45ff-edec-38007e17c77a"
      },
      "source": [
        "def probabilidade(palavras_geradas): \n",
        "    return frequencia[palavras_geradas]/total_palavras\n",
        "\n",
        "probabilidade(\"lógica\")"
      ],
      "execution_count": 159,
      "outputs": [
        {
          "output_type": "execute_result",
          "data": {
            "text/plain": [
              "0.00022086039084673304"
            ]
          },
          "metadata": {
            "tags": []
          },
          "execution_count": 159
        }
      ]
    },
    {
      "cell_type": "code",
      "metadata": {
        "colab": {
          "base_uri": "https://localhost:8080/",
          "height": 35
        },
        "id": "jPo-bwwSVOft",
        "outputId": "8e6ba90c-426b-41d5-c7e3-1a790e672ea1"
      },
      "source": [
        "corretor(palavra_exemplo)"
      ],
      "execution_count": 160,
      "outputs": [
        {
          "output_type": "execute_result",
          "data": {
            "application/vnd.google.colaboratory.intrinsic+json": {
              "type": "string"
            },
            "text/plain": [
              "'lógica'"
            ]
          },
          "metadata": {
            "tags": []
          },
          "execution_count": 160
        }
      ]
    },
    {
      "cell_type": "code",
      "metadata": {
        "colab": {
          "base_uri": "https://localhost:8080/"
        },
        "id": "SX6n_HWtVttP",
        "outputId": "c9c6edce-c566-475f-a58c-f34e378f0c93"
      },
      "source": [
        "def cria_dados_teste(nome_arquivo):\n",
        "    lista_palavras_teste = []\n",
        "    f = open(nome_arquivo, \"r\")\n",
        "    for linha in f:\n",
        "        correta, errada =linha.split()\n",
        "        lista_palavras_teste.append((correta, errada))\n",
        "    f.close()\n",
        "\n",
        "    return lista_palavras_teste\n",
        "\n",
        "lista_teste = cria_dados_teste (\"palavras.txt\")\n",
        "lista_teste"
      ],
      "execution_count": 161,
      "outputs": [
        {
          "output_type": "execute_result",
          "data": {
            "text/plain": [
              "[('podemos', 'pyodemos'),\n",
              " ('esse', 'esje'),\n",
              " ('já', 'jrá'),\n",
              " ('nosso', 'nossov'),\n",
              " ('são', 'sãêo'),\n",
              " ('dos', 'dosa'),\n",
              " ('muito', 'muifo'),\n",
              " ('imagem', 'iômagem'),\n",
              " ('sua', 'ósua'),\n",
              " ('também', 'tambéùm'),\n",
              " ('ele', 'eme'),\n",
              " ('fazer', 'èazer'),\n",
              " ('temos', 'temfs'),\n",
              " ('essa', 'eàssa'),\n",
              " ('quando', 'quaôdo'),\n",
              " ('vamos', 'vamvos'),\n",
              " ('sobre', 'hsobre'),\n",
              " ('java', 'sjava'),\n",
              " ('das', 'daõs'),\n",
              " ('agora', 'agorah'),\n",
              " ('está', 'eòtá'),\n",
              " ('cada', 'céda'),\n",
              " ('mesmo', 'zmesmo'),\n",
              " ('nos', 'noâ'),\n",
              " ('forma', 'fobma'),\n",
              " ('seja', 'sejéa'),\n",
              " ('então', 'enêão'),\n",
              " ('criar', 'èriar'),\n",
              " ('código', 'cóeigo'),\n",
              " ('caso', 'casío'),\n",
              " ('exemplo', 'áexemplo'),\n",
              " ('tem', 'tĩem'),\n",
              " ('usuário', 'usuárôio'),\n",
              " ('dados', 'dfados'),\n",
              " ('python', 'pgthon'),\n",
              " ('nossa', 'nossah'),\n",
              " ('além', 'alémè'),\n",
              " ('assim', 'asõim'),\n",
              " ('ter', 'teb'),\n",
              " ('até', 'atĩ'),\n",
              " ('bem', 'âem'),\n",
              " ('design', 'desigen'),\n",
              " ('trabalho', 'trabalàho'),\n",
              " ('foi', 'foo'),\n",
              " ('apenas', 'apenaũ'),\n",
              " ('empresa', 'empresà'),\n",
              " ('valor', 'valíor'),\n",
              " ('será', 'serr'),\n",
              " ('entre', 'entke'),\n",
              " ('método', 'méqodo'),\n",
              " ('precisamos', 'precisamops'),\n",
              " ('ainda', 'ainàa'),\n",
              " ('vai', 'van'),\n",
              " ('conteúdo', 'ûconteúdo'),\n",
              " ('seus', 'çeus'),\n",
              " ('eu', 'eû'),\n",
              " ('todos', 'todtos'),\n",
              " ('tempo', 'temeo'),\n",
              " ('sempre', 'semre'),\n",
              " ('qual', 'quakl'),\n",
              " ('ela', 'elaá'),\n",
              " ('só', 'síó'),\n",
              " ('utilizar', 'utiqizar'),\n",
              " ('projeto', 'prhojeto'),\n",
              " ('site', 'siàe'),\n",
              " ('sem', 'seém'),\n",
              " ('pelo', 'peln'),\n",
              " ('alura', 'aléra'),\n",
              " ('dia', 'tdia'),\n",
              " ('tudo', 'tuúo'),\n",
              " ('podemos', 'kpodemos'),\n",
              " ('esse', 'eẽsse'),\n",
              " ('já', 'jé'),\n",
              " ('nosso', 'nçosso'),\n",
              " ('são', 'sãô'),\n",
              " ('dos', 'odos'),\n",
              " ('muito', 'tuito'),\n",
              " ('imagem', 'imõgem'),\n",
              " ('sua', 'siua'),\n",
              " ('também', 'tamvbém'),\n",
              " ('ele', 'elpe'),\n",
              " ('fazer', 'façzer'),\n",
              " ('temos', 'teos'),\n",
              " ('essa', 'eũsa'),\n",
              " ('quando', 'quaìdo'),\n",
              " ('vamos', 'vjmos'),\n",
              " ('sobre', 'sxobre'),\n",
              " ('java', 'jkva'),\n",
              " ('das', 'dms'),\n",
              " ('agora', 'agtora'),\n",
              " ('está', 'esútá'),\n",
              " ('cada', 'cava'),\n",
              " ('mesmo', 'medmo'),\n",
              " ('nos', 'ános'),\n",
              " ('forma', 'forûa'),\n",
              " ('seja', 'smeja'),\n",
              " ('então', 'enjtão'),\n",
              " ('criar', 'criôar'),\n",
              " ('código', 'cóàigo'),\n",
              " ('caso', 'èaso'),\n",
              " ('exemplo', 'exbemplo'),\n",
              " ('tem', 'túem'),\n",
              " ('usuário', 'usuárin'),\n",
              " ('dados', 'daáos'),\n",
              " ('python', 'pythoçn'),\n",
              " ('nossa', 'nossk'),\n",
              " ('além', 'âlém'),\n",
              " ('assim', 'aóssim'),\n",
              " ('ter', 'tãer'),\n",
              " ('até', 'vté'),\n",
              " ('bem', 'búm'),\n",
              " ('design', 'íesign'),\n",
              " ('trabalho', 'trabèalho'),\n",
              " ('foi', 'kfoi'),\n",
              " ('apenas', 'aapenas'),\n",
              " ('empresa', 'pmpresa'),\n",
              " ('valor', 'valoqr'),\n",
              " ('será', 'sçerá'),\n",
              " ('entre', 'entró'),\n",
              " ('método', 'nétodo'),\n",
              " ('precisamos', 'prefcisamos'),\n",
              " ('ainda', 'sainda'),\n",
              " ('vai', 'uai'),\n",
              " ('conteúdo', 'cĩonteúdo'),\n",
              " ('seus', 'sâus'),\n",
              " ('eu', 'ìeu'),\n",
              " ('todos', 'todás'),\n",
              " ('tempo', 'utempo'),\n",
              " ('sempre', 'sempce'),\n",
              " ('qual', 'fual'),\n",
              " ('ela', 'elal'),\n",
              " ('só', 'skó'),\n",
              " ('utilizar', 'utilĩzar'),\n",
              " ('projeto', 'proójeto'),\n",
              " ('site', 'isite'),\n",
              " ('sem', 'secm'),\n",
              " ('pelo', 'pẽlo'),\n",
              " ('alura', 'aluéa'),\n",
              " ('dia', 'dil'),\n",
              " ('tudo', 'tudy'),\n",
              " ('ela', 'qelay'),\n",
              " ('só', 'sód'),\n",
              " ('utilizar', 'dtilizacr'),\n",
              " ('projeto', 'bprojõto'),\n",
              " ('site', 'ysiteo'),\n",
              " ('sem', 'sõêm'),\n",
              " ('pelo', 'peàli'),\n",
              " ('alura', 'asuraó'),\n",
              " ('dia', 'deiìa'),\n",
              " ('tudo', 'tuĩdoì'),\n",
              " ('ela', 'eúaa'),\n",
              " ('só', 'ró'),\n",
              " ('utilizar', 'utilizẽaçr'),\n",
              " ('projeto', 'prêjetó'),\n",
              " ('site', 'sqiqte'),\n",
              " ('sem', 'sũexm'),\n",
              " ('pelo', 'pçlxo'),\n",
              " ('alura', 'uluraa'),\n",
              " ('dia', 'dĩaz'),\n",
              " ('tudo', 'kzudo'),\n",
              " ('corretor', 'correptor'),\n",
              " ('tática', 'trtica'),\n",
              " ('empoderamento', 'ewpoderamento'),\n",
              " ('linux', 'lifux'),\n",
              " ('cachorro', 'cachoçro'),\n",
              " ('gato', 'îgato'),\n",
              " ('cavalo', 'cakvalo'),\n",
              " ('relógio', 'relógiuo'),\n",
              " ('canela', 'canelac'),\n",
              " ('tênis', 'tênisy'),\n",
              " ('ansiosa', 'anciosa'),\n",
              " ('ansiosa', 'ancciosa'),\n",
              " ('ansiosa', 'ansioa'),\n",
              " ('empoderamento', 'empoderamento'),\n",
              " ('asterisco', 'asterístico'),\n",
              " ('gratuito', 'gratuíto'),\n",
              " ('entretido', 'entertido'),\n",
              " ('ritmo', 'ritimo'),\n",
              " ('idiota', 'indiota'),\n",
              " ('tomara', 'tomare'),\n",
              " ('seja', 'seje'),\n",
              " ('prevalecer', 'provalecer'),\n",
              " ('esteja', 'esteje'),\n",
              " ('mendigo', 'mindigo'),\n",
              " ('cérebro', 'célebro'),\n",
              " ('perturbar', 'pertubar')]"
            ]
          },
          "metadata": {
            "tags": []
          },
          "execution_count": 161
        }
      ]
    },
    {
      "cell_type": "code",
      "metadata": {
        "colab": {
          "base_uri": "https://localhost:8080/"
        },
        "id": "4iId3kdga6Sx",
        "outputId": "c1a155e2-b5f4-4272-ae3c-dd91442b763f"
      },
      "source": [
        "def avaliador(testes):\n",
        "    numero_palavras = len(testes)\n",
        "    acertou = 0\n",
        "    for correta, errada in testes:\n",
        "        palavra_corrigida = corretor(errada)\n",
        "        if palavra_corrigida == correta:\n",
        "            acertou += 1\n",
        "    taxa_acerto = round(acertou*100/numero_palavras, 2)\n",
        "    print(f\"{taxa_acerto}% de {numero_palavras} palavras\")\n",
        "\n",
        "avaliador(lista_teste)"
      ],
      "execution_count": 162,
      "outputs": [
        {
          "output_type": "stream",
          "text": [
            "1.08% de 186 palavras\n"
          ],
          "name": "stdout"
        }
      ]
    },
    {
      "cell_type": "code",
      "metadata": {
        "id": "X53qca1Rcneg",
        "colab": {
          "base_uri": "https://localhost:8080/"
        },
        "outputId": "7cb82856-78ba-4065-b18a-5b0b9a044435"
      },
      "source": [
        "def deletando_caracteres(fatias):\n",
        "    novas_palavras = []\n",
        "    letras = 'abcdefghijklmnopqrstuvwxyzáâàãéêèẽíîìĩóôõòúûùũç'\n",
        "    for E, D in fatias:\n",
        "        for letra in letras:\n",
        "            novas_palavras.append(E + D [1:])\n",
        "    return novas_palavras\n",
        "\n",
        "\n",
        "def gerador_palavras(palavra):\n",
        "    fatias = []\n",
        "    for i in range(len(palavra)+1):\n",
        "        fatias.append((palavra[:i],palavra[i:]))\n",
        "    palavras_geradas = insere_letras(fatias)\n",
        "    palavras_geradas += deletando_caracteres(fatias)\n",
        "    return palavras_geradas\n",
        "                                \n",
        "palavra_exemplo =\"loigica\"\n",
        "palavras_geradas = gerador_palavras(palavra_exemplo)\n",
        "print(palavras_geradas)"
      ],
      "execution_count": 163,
      "outputs": [
        {
          "output_type": "stream",
          "text": [
            "['aloigica', 'bloigica', 'cloigica', 'dloigica', 'eloigica', 'floigica', 'gloigica', 'hloigica', 'iloigica', 'jloigica', 'kloigica', 'lloigica', 'mloigica', 'nloigica', 'oloigica', 'ploigica', 'qloigica', 'rloigica', 'sloigica', 'tloigica', 'uloigica', 'vloigica', 'wloigica', 'xloigica', 'yloigica', 'zloigica', 'àloigica', 'áloigica', 'âloigica', 'ãloigica', 'èloigica', 'éloigica', 'êloigica', 'ìloigica', 'íloigica', 'îloigica', 'òloigica', 'óloigica', 'ôloigica', 'õloigica', 'ùloigica', 'úloigica', 'ûloigica', 'çloigica', 'laoigica', 'lboigica', 'lcoigica', 'ldoigica', 'leoigica', 'lfoigica', 'lgoigica', 'lhoigica', 'lioigica', 'ljoigica', 'lkoigica', 'lloigica', 'lmoigica', 'lnoigica', 'looigica', 'lpoigica', 'lqoigica', 'lroigica', 'lsoigica', 'ltoigica', 'luoigica', 'lvoigica', 'lwoigica', 'lxoigica', 'lyoigica', 'lzoigica', 'làoigica', 'láoigica', 'lâoigica', 'lãoigica', 'lèoigica', 'léoigica', 'lêoigica', 'lìoigica', 'líoigica', 'lîoigica', 'lòoigica', 'lóoigica', 'lôoigica', 'lõoigica', 'lùoigica', 'lúoigica', 'lûoigica', 'lçoigica', 'loaigica', 'lobigica', 'locigica', 'lodigica', 'loeigica', 'lofigica', 'logigica', 'lohigica', 'loiigica', 'lojigica', 'lokigica', 'loligica', 'lomigica', 'lonigica', 'looigica', 'lopigica', 'loqigica', 'lorigica', 'losigica', 'lotigica', 'louigica', 'lovigica', 'lowigica', 'loxigica', 'loyigica', 'lozigica', 'loàigica', 'loáigica', 'loâigica', 'loãigica', 'loèigica', 'loéigica', 'loêigica', 'loìigica', 'loíigica', 'loîigica', 'loòigica', 'loóigica', 'loôigica', 'loõigica', 'loùigica', 'loúigica', 'loûigica', 'loçigica', 'loiagica', 'loibgica', 'loicgica', 'loidgica', 'loiegica', 'loifgica', 'loiggica', 'loihgica', 'loiigica', 'loijgica', 'loikgica', 'loilgica', 'loimgica', 'loingica', 'loiogica', 'loipgica', 'loiqgica', 'loirgica', 'loisgica', 'loitgica', 'loiugica', 'loivgica', 'loiwgica', 'loixgica', 'loiygica', 'loizgica', 'loiàgica', 'loiágica', 'loiâgica', 'loiãgica', 'loiègica', 'loiégica', 'loiêgica', 'loiìgica', 'loiígica', 'loiîgica', 'loiògica', 'loiógica', 'loiôgica', 'loiõgica', 'loiùgica', 'loiúgica', 'loiûgica', 'loiçgica', 'loigaica', 'loigbica', 'loigcica', 'loigdica', 'loigeica', 'loigfica', 'loiggica', 'loighica', 'loigiica', 'loigjica', 'loigkica', 'loiglica', 'loigmica', 'loignica', 'loigoica', 'loigpica', 'loigqica', 'loigrica', 'loigsica', 'loigtica', 'loiguica', 'loigvica', 'loigwica', 'loigxica', 'loigyica', 'loigzica', 'loigàica', 'loigáica', 'loigâica', 'loigãica', 'loigèica', 'loigéica', 'loigêica', 'loigìica', 'loigíica', 'loigîica', 'loigòica', 'loigóica', 'loigôica', 'loigõica', 'loigùica', 'loigúica', 'loigûica', 'loigçica', 'loigiaca', 'loigibca', 'loigicca', 'loigidca', 'loigieca', 'loigifca', 'loigigca', 'loigihca', 'loigiica', 'loigijca', 'loigikca', 'loigilca', 'loigimca', 'loiginca', 'loigioca', 'loigipca', 'loigiqca', 'loigirca', 'loigisca', 'loigitca', 'loigiuca', 'loigivca', 'loigiwca', 'loigixca', 'loigiyca', 'loigizca', 'loigiàca', 'loigiáca', 'loigiâca', 'loigiãca', 'loigièca', 'loigiéca', 'loigiêca', 'loigiìca', 'loigiíca', 'loigiîca', 'loigiòca', 'loigióca', 'loigiôca', 'loigiõca', 'loigiùca', 'loigiúca', 'loigiûca', 'loigiçca', 'loigicaa', 'loigicba', 'loigicca', 'loigicda', 'loigicea', 'loigicfa', 'loigicga', 'loigicha', 'loigicia', 'loigicja', 'loigicka', 'loigicla', 'loigicma', 'loigicna', 'loigicoa', 'loigicpa', 'loigicqa', 'loigicra', 'loigicsa', 'loigicta', 'loigicua', 'loigicva', 'loigicwa', 'loigicxa', 'loigicya', 'loigicza', 'loigicàa', 'loigicáa', 'loigicâa', 'loigicãa', 'loigicèa', 'loigicéa', 'loigicêa', 'loigicìa', 'loigicía', 'loigicîa', 'loigicòa', 'loigicóa', 'loigicôa', 'loigicõa', 'loigicùa', 'loigicúa', 'loigicûa', 'loigicça', 'loigicaa', 'loigicab', 'loigicac', 'loigicad', 'loigicae', 'loigicaf', 'loigicag', 'loigicah', 'loigicai', 'loigicaj', 'loigicak', 'loigical', 'loigicam', 'loigican', 'loigicao', 'loigicap', 'loigicaq', 'loigicar', 'loigicas', 'loigicat', 'loigicau', 'loigicav', 'loigicaw', 'loigicax', 'loigicay', 'loigicaz', 'loigicaà', 'loigicaá', 'loigicaâ', 'loigicaã', 'loigicaè', 'loigicaé', 'loigicaê', 'loigicaì', 'loigicaí', 'loigicaî', 'loigicaò', 'loigicaó', 'loigicaô', 'loigicaõ', 'loigicaù', 'loigicaú', 'loigicaû', 'loigicaç', 'oigica', 'oigica', 'oigica', 'oigica', 'oigica', 'oigica', 'oigica', 'oigica', 'oigica', 'oigica', 'oigica', 'oigica', 'oigica', 'oigica', 'oigica', 'oigica', 'oigica', 'oigica', 'oigica', 'oigica', 'oigica', 'oigica', 'oigica', 'oigica', 'oigica', 'oigica', 'oigica', 'oigica', 'oigica', 'oigica', 'oigica', 'oigica', 'oigica', 'oigica', 'oigica', 'oigica', 'oigica', 'oigica', 'oigica', 'oigica', 'oigica', 'oigica', 'oigica', 'oigica', 'oigica', 'oigica', 'oigica', 'ligica', 'ligica', 'ligica', 'ligica', 'ligica', 'ligica', 'ligica', 'ligica', 'ligica', 'ligica', 'ligica', 'ligica', 'ligica', 'ligica', 'ligica', 'ligica', 'ligica', 'ligica', 'ligica', 'ligica', 'ligica', 'ligica', 'ligica', 'ligica', 'ligica', 'ligica', 'ligica', 'ligica', 'ligica', 'ligica', 'ligica', 'ligica', 'ligica', 'ligica', 'ligica', 'ligica', 'ligica', 'ligica', 'ligica', 'ligica', 'ligica', 'ligica', 'ligica', 'ligica', 'ligica', 'ligica', 'ligica', 'logica', 'logica', 'logica', 'logica', 'logica', 'logica', 'logica', 'logica', 'logica', 'logica', 'logica', 'logica', 'logica', 'logica', 'logica', 'logica', 'logica', 'logica', 'logica', 'logica', 'logica', 'logica', 'logica', 'logica', 'logica', 'logica', 'logica', 'logica', 'logica', 'logica', 'logica', 'logica', 'logica', 'logica', 'logica', 'logica', 'logica', 'logica', 'logica', 'logica', 'logica', 'logica', 'logica', 'logica', 'logica', 'logica', 'logica', 'loiica', 'loiica', 'loiica', 'loiica', 'loiica', 'loiica', 'loiica', 'loiica', 'loiica', 'loiica', 'loiica', 'loiica', 'loiica', 'loiica', 'loiica', 'loiica', 'loiica', 'loiica', 'loiica', 'loiica', 'loiica', 'loiica', 'loiica', 'loiica', 'loiica', 'loiica', 'loiica', 'loiica', 'loiica', 'loiica', 'loiica', 'loiica', 'loiica', 'loiica', 'loiica', 'loiica', 'loiica', 'loiica', 'loiica', 'loiica', 'loiica', 'loiica', 'loiica', 'loiica', 'loiica', 'loiica', 'loiica', 'loigca', 'loigca', 'loigca', 'loigca', 'loigca', 'loigca', 'loigca', 'loigca', 'loigca', 'loigca', 'loigca', 'loigca', 'loigca', 'loigca', 'loigca', 'loigca', 'loigca', 'loigca', 'loigca', 'loigca', 'loigca', 'loigca', 'loigca', 'loigca', 'loigca', 'loigca', 'loigca', 'loigca', 'loigca', 'loigca', 'loigca', 'loigca', 'loigca', 'loigca', 'loigca', 'loigca', 'loigca', 'loigca', 'loigca', 'loigca', 'loigca', 'loigca', 'loigca', 'loigca', 'loigca', 'loigca', 'loigca', 'loigia', 'loigia', 'loigia', 'loigia', 'loigia', 'loigia', 'loigia', 'loigia', 'loigia', 'loigia', 'loigia', 'loigia', 'loigia', 'loigia', 'loigia', 'loigia', 'loigia', 'loigia', 'loigia', 'loigia', 'loigia', 'loigia', 'loigia', 'loigia', 'loigia', 'loigia', 'loigia', 'loigia', 'loigia', 'loigia', 'loigia', 'loigia', 'loigia', 'loigia', 'loigia', 'loigia', 'loigia', 'loigia', 'loigia', 'loigia', 'loigia', 'loigia', 'loigia', 'loigia', 'loigia', 'loigia', 'loigia', 'loigic', 'loigic', 'loigic', 'loigic', 'loigic', 'loigic', 'loigic', 'loigic', 'loigic', 'loigic', 'loigic', 'loigic', 'loigic', 'loigic', 'loigic', 'loigic', 'loigic', 'loigic', 'loigic', 'loigic', 'loigic', 'loigic', 'loigic', 'loigic', 'loigic', 'loigic', 'loigic', 'loigic', 'loigic', 'loigic', 'loigic', 'loigic', 'loigic', 'loigic', 'loigic', 'loigic', 'loigic', 'loigic', 'loigic', 'loigic', 'loigic', 'loigic', 'loigic', 'loigic', 'loigic', 'loigic', 'loigic', 'loigica', 'loigica', 'loigica', 'loigica', 'loigica', 'loigica', 'loigica', 'loigica', 'loigica', 'loigica', 'loigica', 'loigica', 'loigica', 'loigica', 'loigica', 'loigica', 'loigica', 'loigica', 'loigica', 'loigica', 'loigica', 'loigica', 'loigica', 'loigica', 'loigica', 'loigica', 'loigica', 'loigica', 'loigica', 'loigica', 'loigica', 'loigica', 'loigica', 'loigica', 'loigica', 'loigica', 'loigica', 'loigica', 'loigica', 'loigica', 'loigica', 'loigica', 'loigica', 'loigica', 'loigica', 'loigica', 'loigica']\n"
          ],
          "name": "stdout"
        }
      ]
    },
    {
      "cell_type": "code",
      "metadata": {
        "id": "mszizD0khvvD",
        "colab": {
          "base_uri": "https://localhost:8080/"
        },
        "outputId": "4d8481a9-ef8a-4eaa-89ff-53e7a8eec40e"
      },
      "source": [
        "avaliador(lista_teste)"
      ],
      "execution_count": 164,
      "outputs": [
        {
          "output_type": "stream",
          "text": [
            "41.4% de 186 palavras\n"
          ],
          "name": "stdout"
        }
      ]
    },
    {
      "cell_type": "code",
      "metadata": {
        "id": "0t1AGAkRjnuE",
        "colab": {
          "base_uri": "https://localhost:8080/"
        },
        "outputId": "a1d02fe6-5864-42c0-ba5f-072bb0a7695c"
      },
      "source": [
        "def insere_letras(fatias):\n",
        "    novas_palavras = []\n",
        "    letras = 'abcdefghijklmnopqrstuvwxyzáâàãéêèẽíîìĩóôõòúûùũç'\n",
        "    for E, D in fatias:\n",
        "        for letra in letras:\n",
        "            novas_palavras.append(E + letra + D)\n",
        "    return novas_palavras\n",
        "\n",
        "def deletando_caracteres(fatias):\n",
        "    novas_palavras = []\n",
        "    for E, D in fatias:\n",
        "        novas_palavras.append(E + D[1:])\n",
        "    return novas_palavras\n",
        "\n",
        "def troca_letra(fatias):\n",
        "    novas_palavras = []\n",
        "    letras = 'abcdefghijklmnopqrstuvwxyzáâàãéêèẽíîìĩóôõòúûùũç'\n",
        "    for E, D in fatias:\n",
        "        for letra in letras:\n",
        "            novas_palavras.append(E + letra + D[1:])\n",
        "    return novas_palavras\n",
        "\n",
        "def inverte_letra(fatias):\n",
        "    novas_palavras = []\n",
        "    for E, D in fatias:\n",
        "        if len(D) > 1:\n",
        "            novas_palavras.append(E + D[1] + D[0] + D[2:])\n",
        "    return novas_palavras\n",
        "\n",
        "def gerador_palavras(palavra):\n",
        "    fatias = []\n",
        "    for i in range(len(palavra)+1):\n",
        "        fatias.append((palavra[:i],palavra[i:]))\n",
        "    palavras_geradas = insere_letras(fatias)\n",
        "    palavras_geradas += deletando_caracteres(fatias)\n",
        "    palavras_geradas += troca_letra(fatias)\n",
        "    palavras_geradas += inverte_letra(fatias)\n",
        "    return palavras_geradas\n",
        "\n",
        "avaliador(lista_teste)\n",
        "palavra_exemplo = \"lógiac\"\n",
        "palavras_geradas = gerador_palavras(palavra_exemplo)\n",
        "print(palavras_geradas)"
      ],
      "execution_count": 165,
      "outputs": [
        {
          "output_type": "stream",
          "text": [
            "76.34% de 186 palavras\n",
            "['alógiac', 'blógiac', 'clógiac', 'dlógiac', 'elógiac', 'flógiac', 'glógiac', 'hlógiac', 'ilógiac', 'jlógiac', 'klógiac', 'llógiac', 'mlógiac', 'nlógiac', 'ológiac', 'plógiac', 'qlógiac', 'rlógiac', 'slógiac', 'tlógiac', 'ulógiac', 'vlógiac', 'wlógiac', 'xlógiac', 'ylógiac', 'zlógiac', 'álógiac', 'âlógiac', 'àlógiac', 'ãlógiac', 'élógiac', 'êlógiac', 'èlógiac', 'ẽlógiac', 'ílógiac', 'îlógiac', 'ìlógiac', 'ĩlógiac', 'ólógiac', 'ôlógiac', 'õlógiac', 'òlógiac', 'úlógiac', 'ûlógiac', 'ùlógiac', 'ũlógiac', 'çlógiac', 'laógiac', 'lbógiac', 'lcógiac', 'ldógiac', 'leógiac', 'lfógiac', 'lgógiac', 'lhógiac', 'liógiac', 'ljógiac', 'lkógiac', 'llógiac', 'lmógiac', 'lnógiac', 'loógiac', 'lpógiac', 'lqógiac', 'lrógiac', 'lsógiac', 'ltógiac', 'luógiac', 'lvógiac', 'lwógiac', 'lxógiac', 'lyógiac', 'lzógiac', 'láógiac', 'lâógiac', 'làógiac', 'lãógiac', 'léógiac', 'lêógiac', 'lèógiac', 'lẽógiac', 'líógiac', 'lîógiac', 'lìógiac', 'lĩógiac', 'lóógiac', 'lôógiac', 'lõógiac', 'lòógiac', 'lúógiac', 'lûógiac', 'lùógiac', 'lũógiac', 'lçógiac', 'lóagiac', 'lóbgiac', 'lócgiac', 'lódgiac', 'lóegiac', 'lófgiac', 'lóggiac', 'lóhgiac', 'lóigiac', 'lójgiac', 'lókgiac', 'lólgiac', 'lómgiac', 'lóngiac', 'lóogiac', 'lópgiac', 'lóqgiac', 'lórgiac', 'lósgiac', 'lótgiac', 'lóugiac', 'lóvgiac', 'lówgiac', 'lóxgiac', 'lóygiac', 'lózgiac', 'lóágiac', 'lóâgiac', 'lóàgiac', 'lóãgiac', 'lóégiac', 'lóêgiac', 'lóègiac', 'lóẽgiac', 'lóígiac', 'lóîgiac', 'lóìgiac', 'lóĩgiac', 'lóógiac', 'lóôgiac', 'lóõgiac', 'lóògiac', 'lóúgiac', 'lóûgiac', 'lóùgiac', 'lóũgiac', 'lóçgiac', 'lógaiac', 'lógbiac', 'lógciac', 'lógdiac', 'lógeiac', 'lógfiac', 'lóggiac', 'lóghiac', 'lógiiac', 'lógjiac', 'lógkiac', 'lógliac', 'lógmiac', 'lógniac', 'lógoiac', 'lógpiac', 'lógqiac', 'lógriac', 'lógsiac', 'lógtiac', 'lóguiac', 'lógviac', 'lógwiac', 'lógxiac', 'lógyiac', 'lógziac', 'lógáiac', 'lógâiac', 'lógàiac', 'lógãiac', 'lógéiac', 'lógêiac', 'lógèiac', 'lógẽiac', 'lógíiac', 'lógîiac', 'lógìiac', 'lógĩiac', 'lógóiac', 'lógôiac', 'lógõiac', 'lógòiac', 'lógúiac', 'lógûiac', 'lógùiac', 'lógũiac', 'lógçiac', 'lógiaac', 'lógibac', 'lógicac', 'lógidac', 'lógieac', 'lógifac', 'lógigac', 'lógihac', 'lógiiac', 'lógijac', 'lógikac', 'lógilac', 'lógimac', 'lóginac', 'lógioac', 'lógipac', 'lógiqac', 'lógirac', 'lógisac', 'lógitac', 'lógiuac', 'lógivac', 'lógiwac', 'lógixac', 'lógiyac', 'lógizac', 'lógiáac', 'lógiâac', 'lógiàac', 'lógiãac', 'lógiéac', 'lógiêac', 'lógièac', 'lógiẽac', 'lógiíac', 'lógiîac', 'lógiìac', 'lógiĩac', 'lógióac', 'lógiôac', 'lógiõac', 'lógiòac', 'lógiúac', 'lógiûac', 'lógiùac', 'lógiũac', 'lógiçac', 'lógiaac', 'lógiabc', 'lógiacc', 'lógiadc', 'lógiaec', 'lógiafc', 'lógiagc', 'lógiahc', 'lógiaic', 'lógiajc', 'lógiakc', 'lógialc', 'lógiamc', 'lógianc', 'lógiaoc', 'lógiapc', 'lógiaqc', 'lógiarc', 'lógiasc', 'lógiatc', 'lógiauc', 'lógiavc', 'lógiawc', 'lógiaxc', 'lógiayc', 'lógiazc', 'lógiaác', 'lógiaâc', 'lógiaàc', 'lógiaãc', 'lógiaéc', 'lógiaêc', 'lógiaèc', 'lógiaẽc', 'lógiaíc', 'lógiaîc', 'lógiaìc', 'lógiaĩc', 'lógiaóc', 'lógiaôc', 'lógiaõc', 'lógiaòc', 'lógiaúc', 'lógiaûc', 'lógiaùc', 'lógiaũc', 'lógiaçc', 'lógiaca', 'lógiacb', 'lógiacc', 'lógiacd', 'lógiace', 'lógiacf', 'lógiacg', 'lógiach', 'lógiaci', 'lógiacj', 'lógiack', 'lógiacl', 'lógiacm', 'lógiacn', 'lógiaco', 'lógiacp', 'lógiacq', 'lógiacr', 'lógiacs', 'lógiact', 'lógiacu', 'lógiacv', 'lógiacw', 'lógiacx', 'lógiacy', 'lógiacz', 'lógiacá', 'lógiacâ', 'lógiacà', 'lógiacã', 'lógiacé', 'lógiacê', 'lógiacè', 'lógiacẽ', 'lógiací', 'lógiacî', 'lógiacì', 'lógiacĩ', 'lógiacó', 'lógiacô', 'lógiacõ', 'lógiacò', 'lógiacú', 'lógiacû', 'lógiacù', 'lógiacũ', 'lógiacç', 'ógiac', 'lgiac', 'lóiac', 'lógac', 'lógic', 'lógia', 'lógiac', 'aógiac', 'bógiac', 'cógiac', 'dógiac', 'eógiac', 'fógiac', 'gógiac', 'hógiac', 'iógiac', 'jógiac', 'kógiac', 'lógiac', 'mógiac', 'nógiac', 'oógiac', 'pógiac', 'qógiac', 'rógiac', 'sógiac', 'tógiac', 'uógiac', 'vógiac', 'wógiac', 'xógiac', 'yógiac', 'zógiac', 'áógiac', 'âógiac', 'àógiac', 'ãógiac', 'éógiac', 'êógiac', 'èógiac', 'ẽógiac', 'íógiac', 'îógiac', 'ìógiac', 'ĩógiac', 'óógiac', 'ôógiac', 'õógiac', 'òógiac', 'úógiac', 'ûógiac', 'ùógiac', 'ũógiac', 'çógiac', 'lagiac', 'lbgiac', 'lcgiac', 'ldgiac', 'legiac', 'lfgiac', 'lggiac', 'lhgiac', 'ligiac', 'ljgiac', 'lkgiac', 'llgiac', 'lmgiac', 'lngiac', 'logiac', 'lpgiac', 'lqgiac', 'lrgiac', 'lsgiac', 'ltgiac', 'lugiac', 'lvgiac', 'lwgiac', 'lxgiac', 'lygiac', 'lzgiac', 'lágiac', 'lâgiac', 'làgiac', 'lãgiac', 'légiac', 'lêgiac', 'lègiac', 'lẽgiac', 'lígiac', 'lîgiac', 'lìgiac', 'lĩgiac', 'lógiac', 'lôgiac', 'lõgiac', 'lògiac', 'lúgiac', 'lûgiac', 'lùgiac', 'lũgiac', 'lçgiac', 'lóaiac', 'lóbiac', 'lóciac', 'lódiac', 'lóeiac', 'lófiac', 'lógiac', 'lóhiac', 'lóiiac', 'lójiac', 'lókiac', 'lóliac', 'lómiac', 'lóniac', 'lóoiac', 'lópiac', 'lóqiac', 'lóriac', 'lósiac', 'lótiac', 'lóuiac', 'lóviac', 'lówiac', 'lóxiac', 'lóyiac', 'lóziac', 'lóáiac', 'lóâiac', 'lóàiac', 'lóãiac', 'lóéiac', 'lóêiac', 'lóèiac', 'lóẽiac', 'lóíiac', 'lóîiac', 'lóìiac', 'lóĩiac', 'lóóiac', 'lóôiac', 'lóõiac', 'lóòiac', 'lóúiac', 'lóûiac', 'lóùiac', 'lóũiac', 'lóçiac', 'lógaac', 'lógbac', 'lógcac', 'lógdac', 'lógeac', 'lógfac', 'lóggac', 'lóghac', 'lógiac', 'lógjac', 'lógkac', 'lóglac', 'lógmac', 'lógnac', 'lógoac', 'lógpac', 'lógqac', 'lógrac', 'lógsac', 'lógtac', 'lóguac', 'lógvac', 'lógwac', 'lógxac', 'lógyac', 'lógzac', 'lógáac', 'lógâac', 'lógàac', 'lógãac', 'lógéac', 'lógêac', 'lógèac', 'lógẽac', 'lógíac', 'lógîac', 'lógìac', 'lógĩac', 'lógóac', 'lógôac', 'lógõac', 'lógòac', 'lógúac', 'lógûac', 'lógùac', 'lógũac', 'lógçac', 'lógiac', 'lógibc', 'lógicc', 'lógidc', 'lógiec', 'lógifc', 'lógigc', 'lógihc', 'lógiic', 'lógijc', 'lógikc', 'lógilc', 'lógimc', 'lóginc', 'lógioc', 'lógipc', 'lógiqc', 'lógirc', 'lógisc', 'lógitc', 'lógiuc', 'lógivc', 'lógiwc', 'lógixc', 'lógiyc', 'lógizc', 'lógiác', 'lógiâc', 'lógiàc', 'lógiãc', 'lógiéc', 'lógiêc', 'lógièc', 'lógiẽc', 'lógiíc', 'lógiîc', 'lógiìc', 'lógiĩc', 'lógióc', 'lógiôc', 'lógiõc', 'lógiòc', 'lógiúc', 'lógiûc', 'lógiùc', 'lógiũc', 'lógiçc', 'lógiaa', 'lógiab', 'lógiac', 'lógiad', 'lógiae', 'lógiaf', 'lógiag', 'lógiah', 'lógiai', 'lógiaj', 'lógiak', 'lógial', 'lógiam', 'lógian', 'lógiao', 'lógiap', 'lógiaq', 'lógiar', 'lógias', 'lógiat', 'lógiau', 'lógiav', 'lógiaw', 'lógiax', 'lógiay', 'lógiaz', 'lógiaá', 'lógiaâ', 'lógiaà', 'lógiaã', 'lógiaé', 'lógiaê', 'lógiaè', 'lógiaẽ', 'lógiaí', 'lógiaî', 'lógiaì', 'lógiaĩ', 'lógiaó', 'lógiaô', 'lógiaõ', 'lógiaò', 'lógiaú', 'lógiaû', 'lógiaù', 'lógiaũ', 'lógiaç', 'lógiaca', 'lógiacb', 'lógiacc', 'lógiacd', 'lógiace', 'lógiacf', 'lógiacg', 'lógiach', 'lógiaci', 'lógiacj', 'lógiack', 'lógiacl', 'lógiacm', 'lógiacn', 'lógiaco', 'lógiacp', 'lógiacq', 'lógiacr', 'lógiacs', 'lógiact', 'lógiacu', 'lógiacv', 'lógiacw', 'lógiacx', 'lógiacy', 'lógiacz', 'lógiacá', 'lógiacâ', 'lógiacà', 'lógiacã', 'lógiacé', 'lógiacê', 'lógiacè', 'lógiacẽ', 'lógiací', 'lógiacî', 'lógiacì', 'lógiacĩ', 'lógiacó', 'lógiacô', 'lógiacõ', 'lógiacò', 'lógiacú', 'lógiacû', 'lógiacù', 'lógiacũ', 'lógiacç', 'ólgiac', 'lgóiac', 'lóigac', 'lógaic', 'lógica']\n"
          ],
          "name": "stdout"
        }
      ]
    },
    {
      "cell_type": "code",
      "metadata": {
        "id": "TcBHgVDNA9QG",
        "colab": {
          "base_uri": "https://localhost:8080/"
        },
        "outputId": "400c2b0b-9ac8-4b19-fd4b-ef4e56ee1bd7"
      },
      "source": [
        "avaliador(lista_teste)"
      ],
      "execution_count": 166,
      "outputs": [
        {
          "output_type": "stream",
          "text": [
            "76.34% de 186 palavras\n"
          ],
          "name": "stdout"
        }
      ]
    },
    {
      "cell_type": "code",
      "metadata": {
        "id": "NGbNlF_AB14m",
        "colab": {
          "base_uri": "https://localhost:8080/"
        },
        "outputId": "7c906cab-2273-4cd7-f73c-53112b963d96"
      },
      "source": [
        "def avaliador(testes, vocabulario):\n",
        "    numero_palavras = len(testes)\n",
        "    acertou = 0\n",
        "    desconhecida = 0\n",
        "    for correta, errada in testes:\n",
        "        palavra_corrigida = corretor(errada)\n",
        "        if palavra_corrigida == correta:\n",
        "            acertou += 1\n",
        "        else:\n",
        "            desconhecida +=(correta not in vocabulario)\n",
        "    taxa_acerto = round(acertou*100/numero_palavras, 2)\n",
        "    taxa_desconhecida = round(desconhecida*100/numero_palavras, 2)\n",
        "    print(f\"{taxa_acerto}% de {numero_palavras} palavras, desconhecida é {taxa_desconhecida}%\")\n",
        "\n",
        "vocabulario = set (lista_normalizada)\n",
        "avaliador(lista_teste, vocabulario)\n"
      ],
      "execution_count": 167,
      "outputs": [
        {
          "output_type": "stream",
          "text": [
            "76.34% de 186 palavras, desconhecida é 6.99%\n"
          ],
          "name": "stdout"
        }
      ]
    },
    {
      "cell_type": "code",
      "metadata": {
        "id": "OuydfNokH_Hy",
        "colab": {
          "base_uri": "https://localhost:8080/"
        },
        "outputId": "8eca12ec-111d-4c2e-804f-7bb977f004c3"
      },
      "source": [
        "palavra = \"lóiigica\"\n",
        "\n",
        "def gerador_turbinado(palavras_geradas):\n",
        "    novas_palavras = []\n",
        "    for palavra in palavras_geradas:\n",
        "        novas_palavras += gerador_palavras(palavra)\n",
        "    return novas_palavras\n",
        "\n",
        "palavras_g = gerador_turbinado(gerador_palavras(palavra))\n",
        "\"lógica\" in palavras_g"
      ],
      "execution_count": 175,
      "outputs": [
        {
          "output_type": "execute_result",
          "data": {
            "text/plain": [
              "True"
            ]
          },
          "metadata": {
            "tags": []
          },
          "execution_count": 175
        }
      ]
    },
    {
      "cell_type": "code",
      "metadata": {
        "id": "F41bClqLLTHl",
        "colab": {
          "base_uri": "https://localhost:8080/"
        },
        "outputId": "260ab2c9-5572-431d-a197-e8d57994c5d9"
      },
      "source": [
        "len(palavras_g)"
      ],
      "execution_count": 176,
      "outputs": [
        {
          "output_type": "execute_result",
          "data": {
            "text/plain": [
              "787396"
            ]
          },
          "metadata": {
            "tags": []
          },
          "execution_count": 176
        }
      ]
    },
    {
      "cell_type": "code",
      "metadata": {
        "id": "lX7FAxzQMOvD",
        "colab": {
          "base_uri": "https://localhost:8080/",
          "height": 35
        },
        "outputId": "7cc3c960-fed7-41b4-8015-01facddcecff"
      },
      "source": [
        "def novo_corretor(palavra):\n",
        "    palavras_geradas = gerador_palavras(palavra)\n",
        "    palavras_turbinado = gerador_turbinado(palavras_geradas)\n",
        "    todas_palavras = set (palavras_geradas + palavras_turbinado)\n",
        "    candidatos = [palavra]\n",
        "    for palavra in todas_palavras:\n",
        "        if palavra in vocabulario:\n",
        "            candidatos.append(palavra)\n",
        "\n",
        "    palavra_correta = max(candidatos, key=probabilidade)\n",
        "    return palavra_correta\n",
        "\n",
        "novo_corretor(palavra)"
      ],
      "execution_count": 177,
      "outputs": [
        {
          "output_type": "execute_result",
          "data": {
            "application/vnd.google.colaboratory.intrinsic+json": {
              "type": "string"
            },
            "text/plain": [
              "'lógica'"
            ]
          },
          "metadata": {
            "tags": []
          },
          "execution_count": 177
        }
      ]
    },
    {
      "cell_type": "code",
      "metadata": {
        "id": "zYF1adSPtUBa",
        "colab": {
          "base_uri": "https://localhost:8080/"
        },
        "outputId": "847bd5c2-2355-4c43-939d-6a36a9218744"
      },
      "source": [
        "def avaliador(testes, vocabulario):\n",
        "    numero_palavras = len(testes)\n",
        "    acertou = 0\n",
        "    desconhecida = 0\n",
        "    for correta, errada in testes:\n",
        "        palavra_corrigida = novo_corretor(errada)\n",
        "        desconhecida += (correta not in vocabulario)\n",
        "        if palavra_corrigida == correta:\n",
        "            acertou += 1  \n",
        "        else: \n",
        "          print(errada + \"-\" + corretor(errada + \"-\" + palavra_corrigida))              \n",
        "    taxa_acerto = round(acertou*100/numero_palavras, 2)\n",
        "    taxa_desconhecida = round(desconhecida*100/numero_palavras, 2)\n",
        "    print(f\"{taxa_acerto}% de {numero_palavras} palavras, desconhecida é {taxa_desconhecida}%\")\n",
        "\n",
        "vocabulario = set (lista_normalizada)\n",
        "avaliador(lista_teste, vocabulario)\n"
      ],
      "execution_count": 178,
      "outputs": [
        {
          "output_type": "stream",
          "text": [
            "esje-aesje-se\n",
            "sãêo-asãêo-não\n",
            "dosa-adosa-do\n",
            "eme-aeme-de\n",
            "eàssa-aeàssa-esse\n",
            "daõs-adaõs-da\n",
            "céda-acéda-da\n",
            "noâ-anoâ-o\n",
            "enêão-aenêão-não\n",
            "tĩem-atĩem-em\n",
            "nossah-anossah-nosso\n",
            "teb-ateb-de\n",
            "atĩ-aatĩ-a\n",
            "âem-aâem-de\n",
            "foo-afoo-o\n",
            "serr-aserr-se\n",
            "entke-aentke-então\n",
            "van-avan-a\n",
            "çeus-açeus-seu\n",
            "eû-aeû-de\n",
            "temeo-atemeo-temos\n",
            "semre-asemre-ser\n",
            "elaá-aelaá-ele\n",
            "síó-asíó-se\n",
            "siàe-asiàe-se\n",
            "seém-aseém-em\n",
            "peln-apeln-ele\n",
            "aléra-aaléra-agora\n",
            "tdia-atdia-da\n",
            "jé-ajé-de\n",
            "sãô-asãô-não\n",
            "odos-aodos-do\n",
            "siua-asiua-seu\n",
            "elpe-aelpe-esse\n",
            "teos-ateos-os\n",
            "eũsa-aeũsa-esse\n",
            "vjmos-avjmos-temos\n",
            "dms-adms-de\n",
            "cava-acava-para\n",
            "ános-aános-no\n",
            "èaso-aèaso-as\n",
            "túem-atúem-em\n",
            "daáos-adaáos-dos\n",
            "nossk-anossk-nosso\n",
            "tãer-atãer-ser\n",
            "vté-avté-é\n",
            "búm-abúm-um\n",
            "sçerá-asçerá-ser\n",
            "entró-aentró-então\n",
            "uai-auai-a\n",
            "sâus-asâus-seu\n",
            "ìeu-aìeu-de\n",
            "fual-afual-sua\n",
            "elal-aelal-ele\n",
            "skó-askó-se\n",
            "secm-asecm-em\n",
            "aluéa-aaluéa-além\n",
            "dil-adil-de\n",
            "sód-asód-se\n",
            "eúaa-aeúaa-essa\n",
            "ró-aró-de\n",
            "dĩaz-adĩaz-da\n",
            "correptor-acorreptor-correto\n",
            "trtica-atrtica-prática\n",
            "ewpoderamento-aewpoderamento-ewpoderamento\n",
            "îgato-aîgato-fato\n",
            "cakvalo-acakvalo-carvalho\n",
            "canelac-acanelac-janela\n",
            "tênisy-atênisy-tênisy\n",
            "anciosa-aanciosa-ansioso\n",
            "ancciosa-aancciosa-ancciosa\n",
            "ansioa-aansioa-ensina\n",
            "asterístico-aasterístico-asterístico\n",
            "entertido-aentertido-entendido\n",
            "ritimo-aritimo-ótimo\n",
            "indiota-aindiota-indica\n",
            "tomare-atomare-tomar\n",
            "seje-aseje-se\n",
            "provalecer-aprovalecer-prevalece\n",
            "esteje-aesteje-este\n",
            "mindigo-amindigo-indico\n",
            "pertubar-apertubar-derrubar\n",
            "55.91% de 186 palavras, desconhecida é 6.99%\n"
          ],
          "name": "stdout"
        }
      ]
    },
    {
      "cell_type": "code",
      "metadata": {
        "colab": {
          "base_uri": "https://localhost:8080/"
        },
        "id": "9PEsGmK7cr2E",
        "outputId": "68de8332-cd4a-4ec1-8c9f-84e21489a579"
      },
      "source": [
        "def avaliador(testes, vocabulario):\n",
        "    numero_palavras = len(testes)\n",
        "    acertou = 0\n",
        "    desconhecida = 0\n",
        "    for correta, errada in testes:\n",
        "        palavra_corrigida = corretor(errada)\n",
        "        desconhecida += (correta not in vocabulario)\n",
        "        if palavra_corrigida == correta:\n",
        "            acertou += 1             \n",
        "    taxa_acerto = round(acertou*100/numero_palavras, 2)\n",
        "    taxa_desconhecida = round(desconhecida*100/numero_palavras, 2)\n",
        "    print(f\"{taxa_acerto}% de {numero_palavras} palavras, desconhecida é {taxa_desconhecida}%\")\n",
        "\n",
        "vocabulario = set (lista_normalizada)\n",
        "avaliador(lista_teste, vocabulario)"
      ],
      "execution_count": 179,
      "outputs": [
        {
          "output_type": "stream",
          "text": [
            "76.34% de 186 palavras, desconhecida é 6.99%\n"
          ],
          "name": "stdout"
        }
      ]
    },
    {
      "cell_type": "code",
      "metadata": {
        "colab": {
          "base_uri": "https://localhost:8080/"
        },
        "id": "lZ25j_tnc1bI",
        "outputId": "d8247695-e10f-4408-bbf9-e829c017610a"
      },
      "source": [
        "palavra = \"lóiigica\"\n",
        "print(novo_corretor(palavra))\n",
        "print(corretor(palavra))"
      ],
      "execution_count": 184,
      "outputs": [
        {
          "output_type": "stream",
          "text": [
            "lógica\n",
            "alóiigica\n"
          ],
          "name": "stdout"
        }
      ]
    },
    {
      "cell_type": "code",
      "metadata": {
        "id": "EWvReIIGhwMf"
      },
      "source": [
        "from google.colab import drive\n",
        "drive.mount('/content/drive')"
      ],
      "execution_count": null,
      "outputs": []
    }
  ]
}